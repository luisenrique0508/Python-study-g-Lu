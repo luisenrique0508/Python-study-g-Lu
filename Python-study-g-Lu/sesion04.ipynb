{
 "cells": [
  {
   "cell_type": "code",
   "id": "22f47096",
   "metadata": {
    "ExecuteTime": {
     "end_time": "2025-05-10T20:47:44.599742Z",
     "start_time": "2025-05-10T20:47:44.595318Z"
    }
   },
   "source": [
    "# Code 01\n",
    "print(\"Hola mundo desde un Notebook de Jupyter\")"
   ],
   "outputs": [
    {
     "name": "stdout",
     "output_type": "stream",
     "text": [
      "Hola mundo desde un Notebook de Jupyter\n"
     ]
    }
   ],
   "execution_count": 1
  },
  {
   "cell_type": "code",
   "id": "438b3d65",
   "metadata": {
    "ExecuteTime": {
     "end_time": "2025-05-10T20:47:44.739001Z",
     "start_time": "2025-05-10T20:47:44.736671Z"
    }
   },
   "source": [
    "# Arbol\n",
    "print(\"    *\")\n",
    "print(\"   ***\")\n",
    "print(\"  *****\")\n",
    "print(\" *******\")\n",
    "print(\"*********\")\n",
    "print(\"    *\")\n",
    "print(\"    *\")\n"
   ],
   "outputs": [
    {
     "name": "stdout",
     "output_type": "stream",
     "text": [
      "    *\n",
      "   ***\n",
      "  *****\n",
      " *******\n",
      "*********\n",
      "    *\n",
      "    *\n"
     ]
    }
   ],
   "execution_count": 2
  },
  {
   "cell_type": "code",
   "id": "4a92b46e",
   "metadata": {},
   "source": [],
   "outputs": [],
   "execution_count": null
  },
  {
   "cell_type": "code",
   "id": "54cd03ad",
   "metadata": {},
   "source": [],
   "outputs": [],
   "execution_count": null
  },
  {
   "cell_type": "markdown",
   "id": "74d5384a",
   "metadata": {
    "notebookRunGroups": {
     "groupValue": "1"
    }
   },
   "source": [
    "# Hola PSG \n",
    "\n",
    "- Siuuu\n",
    "- Miauu, Miaa, Miaa \n"
   ]
  }
 ],
 "metadata": {
  "kernelspec": {
   "display_name": "Python 3",
   "language": "python",
   "name": "python3"
  },
  "language_info": {
   "codemirror_mode": {
    "name": "ipython",
    "version": 3
   },
   "file_extension": ".py",
   "mimetype": "text/x-python",
   "name": "python",
   "nbconvert_exporter": "python",
   "pygments_lexer": "ipython3",
   "version": "3.12.1"
  }
 },
 "nbformat": 4,
 "nbformat_minor": 5
}
